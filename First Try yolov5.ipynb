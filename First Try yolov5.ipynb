{
  "nbformat": 4,
  "nbformat_minor": 0,
  "metadata": {
    "colab": {
      "provenance": []
    },
    "kernelspec": {
      "name": "python3",
      "display_name": "Python 3"
    },
    "language_info": {
      "name": "python"
    }
  },
  "cells": [
    {
      "cell_type": "code",
      "execution_count": null,
      "metadata": {
        "colab": {
          "base_uri": "https://localhost:8080/"
        },
        "id": "yFBoTQBlRl_n",
        "outputId": "c1c4aca4-20e5-45cb-fe99-046489544f6d"
      },
      "outputs": [
        {
          "output_type": "stream",
          "name": "stdout",
          "text": [
            "Mounted at /content/drive\n",
            "8189\n"
          ]
        }
      ],
      "source": [
        "from google.colab import drive\n",
        "import os\n",
        "import random\n",
        "import shutil\n",
        "\n",
        "drive.mount('/content/drive')\n",
        "# !unzip \"/content/drive/My Drive/102flowers.zip\" -d \"/content/drive/My Drive/\"\n",
        "\n",
        "\n",
        "dataset_path = \"/content/drive/My Drive/jpg\"\n",
        "image_filenames = os.listdir(dataset_path)\n",
        "image_filenames.sort()\n",
        "print(len(image_filenames))"
      ]
    },
    {
      "cell_type": "code",
      "source": [
        "import scipy.io\n",
        "import cv2, numpy as np\n",
        "mat = scipy.io.loadmat('/content/imagelabels.mat')\n",
        "labels=mat[\"labels\"][0]\n",
        "# for i in labels:\n",
        "#   print(i)\n",
        "print(len(labels))\n",
        "print(type(str(labels[0],'UTF-8')))"
      ],
      "metadata": {
        "colab": {
          "base_uri": "https://localhost:8080/"
        },
        "id": "5Lke-tRlR1pC",
        "outputId": "9ce07d32-9e39-4341-df01-a1ec99254a1b"
      },
      "execution_count": null,
      "outputs": [
        {
          "output_type": "stream",
          "name": "stdout",
          "text": [
            "8189\n",
            "<class 'str'>\n"
          ]
        }
      ]
    },
    {
      "cell_type": "code",
      "source": [
        "dataset=[]\n",
        "for i in range(8189):\n",
        "  dataset.append([image_filenames[i],labels[i]])\n",
        "dataset = np.asarray(dataset)"
      ],
      "metadata": {
        "id": "y-W0GLsHR5U_"
      },
      "execution_count": null,
      "outputs": []
    },
    {
      "cell_type": "code",
      "source": [
        "from sklearn.model_selection import train_test_split\n",
        "train, test_valid = train_test_split(dataset, test_size=0.50,random_state=1, stratify=dataset[:,1])\n",
        "\n",
        "test, valid = train_test_split(test_valid, test_size=0.50,random_state=1, stratify=test_valid[:,1])\n",
        "print(len(train))\n",
        "print(len(test))\n",
        "print(len(valid))"
      ],
      "metadata": {
        "colab": {
          "base_uri": "https://localhost:8080/"
        },
        "id": "Js49NshJR_-Z",
        "outputId": "c4bd6087-0ace-482d-c47f-9844ca01d73b"
      },
      "execution_count": null,
      "outputs": [
        {
          "output_type": "stream",
          "name": "stdout",
          "text": [
            "4094\n",
            "2047\n",
            "2048\n"
          ]
        }
      ]
    },
    {
      "cell_type": "code",
      "source": [
        "cur_dir_path = os.path.join(\"/content/train\")\n",
        "if not os.path.exists(cur_dir_path):\n",
        "    os.mkdir(cur_dir_path)\n",
        "for i in range(1,103):\n",
        "    class_dir = os.path.join(\"/content/train\", str(i))\n",
        "    os.mkdir(class_dir)\n",
        "\n",
        "for label in train:\n",
        "    filename = str(label[0])\n",
        "    src = os.path.join(\"/content/drive/My Drive/jpg\",filename)\n",
        "    dst = os.path.join(\"/content/train\", label[1], src.split(os.sep)[-1])\n",
        "    shutil.copyfile(src, dst)"
      ],
      "metadata": {
        "id": "zbAG2Ab9SB2a"
      },
      "execution_count": null,
      "outputs": []
    },
    {
      "cell_type": "code",
      "source": [
        "cur_dir_path = os.path.join(\"/content/validation\")\n",
        "if not os.path.exists(cur_dir_path):\n",
        "    os.mkdir(cur_dir_path)\n",
        "for i in range(1,103):\n",
        "    class_dir = os.path.join(\"/content/validation\", str(i))\n",
        "    os.mkdir(class_dir)\n",
        "\n",
        "for label in valid:\n",
        "    filename = str(label[0])\n",
        "    src = os.path.join(\"/content/drive/My Drive/jpg\",filename)\n",
        "    dst = os.path.join(\"/content/validation\", label[1], src.split(os.sep)[-1])\n",
        "    shutil.copyfile(src, dst)"
      ],
      "metadata": {
        "id": "-A1Grgg7SGeQ"
      },
      "execution_count": null,
      "outputs": []
    },
    {
      "cell_type": "code",
      "source": [
        "cur_dir_path = os.path.join(\"/content/test\")\n",
        "if not os.path.exists(cur_dir_path):\n",
        "    os.mkdir(cur_dir_path)\n",
        "for i in range(1,103):\n",
        "    class_dir = os.path.join(\"/content/test\", str(i))\n",
        "    os.mkdir(class_dir)\n",
        "\n",
        "for label in test:\n",
        "    filename = str(label[0])\n",
        "    src = os.path.join(\"/content/drive/My Drive/jpg\",filename)\n",
        "    dst = os.path.join(\"/content/test\", label[1], src.split(os.sep)[-1])\n",
        "    shutil.copyfile(src, dst)"
      ],
      "metadata": {
        "id": "Q6PlnwzISJmS"
      },
      "execution_count": null,
      "outputs": []
    },
    {
      "cell_type": "code",
      "source": [
        "! git clone https://github.com/ultralytics/yolov5\n",
        "! pip install -qr yolov5/requirements.txt\n"
      ],
      "metadata": {
        "colab": {
          "base_uri": "https://localhost:8080/"
        },
        "id": "QSXHPOSpScvo",
        "outputId": "0e4d74eb-01cc-4d0d-d8d2-cdf296a52875"
      },
      "execution_count": null,
      "outputs": [
        {
          "output_type": "stream",
          "name": "stdout",
          "text": [
            "Cloning into 'yolov5'...\n",
            "remote: Enumerating objects: 15996, done.\u001b[K\n",
            "remote: Counting objects: 100% (165/165), done.\u001b[K\n",
            "remote: Compressing objects: 100% (103/103), done.\u001b[K\n",
            "remote: Total 15996 (delta 99), reused 104 (delta 62), pack-reused 15831\u001b[K\n",
            "Receiving objects: 100% (15996/15996), 14.64 MiB | 28.50 MiB/s, done.\n",
            "Resolving deltas: 100% (10972/10972), done.\n",
            "\u001b[2K     \u001b[90m━━━━━━━━━━━━━━━━━━━━━━━━━━━━━━━━━━━━━━━\u001b[0m \u001b[32m184.3/184.3 kB\u001b[0m \u001b[31m5.9 MB/s\u001b[0m eta \u001b[36m0:00:00\u001b[0m\n",
            "\u001b[2K     \u001b[90m━━━━━━━━━━━━━━━━━━━━━━━━━━━━━━━━━━━━━━\u001b[0m \u001b[32m611.2/611.2 kB\u001b[0m \u001b[31m27.3 MB/s\u001b[0m eta \u001b[36m0:00:00\u001b[0m\n",
            "\u001b[2K     \u001b[90m━━━━━━━━━━━━━━━━━━━━━━━━━━━━━━━━━━━━━━━━\u001b[0m \u001b[32m62.7/62.7 kB\u001b[0m \u001b[31m6.6 MB/s\u001b[0m eta \u001b[36m0:00:00\u001b[0m\n",
            "\u001b[?25h"
          ]
        }
      ]
    },
    {
      "cell_type": "code",
      "source": [
        "pip install pyyaml"
      ],
      "metadata": {
        "colab": {
          "base_uri": "https://localhost:8080/"
        },
        "id": "fLoiEwUJVhj_",
        "outputId": "f5f85cec-a85b-4a01-edc9-eb721594e548"
      },
      "execution_count": null,
      "outputs": [
        {
          "output_type": "stream",
          "name": "stdout",
          "text": [
            "Looking in indexes: https://pypi.org/simple, https://us-python.pkg.dev/colab-wheels/public/simple/\n",
            "Requirement already satisfied: pyyaml in /usr/local/lib/python3.10/dist-packages (6.0)\n"
          ]
        }
      ]
    },
    {
      "cell_type": "code",
      "source": [
        "import yaml\n",
        "data = {\n",
        "    'train': '/content/train',\n",
        "    'val': '/content/validation',\n",
        "    'test': '/content/test',\n",
        "    'nc': 102,\n",
        "    'names': [i for i in range(1,103)]\n",
        "}\n",
        "with open(r'/content/data.yaml', 'w') as file:\n",
        "    documents = yaml.dump(data, file)"
      ],
      "metadata": {
        "id": "v4NPbMcsVvGi"
      },
      "execution_count": null,
      "outputs": []
    },
    {
      "cell_type": "code",
      "source": [
        "print([i for i in range(1,103)])"
      ],
      "metadata": {
        "colab": {
          "base_uri": "https://localhost:8080/"
        },
        "id": "78wAs9ADZ3GY",
        "outputId": "f128ae6c-f6a4-476a-bfe6-4f8f662e1989"
      },
      "execution_count": null,
      "outputs": [
        {
          "output_type": "stream",
          "name": "stdout",
          "text": [
            "[1, 2, 3, 4, 5, 6, 7, 8, 9, 10, 11, 12, 13, 14, 15, 16, 17, 18, 19, 20, 21, 22, 23, 24, 25, 26, 27, 28, 29, 30, 31, 32, 33, 34, 35, 36, 37, 38, 39, 40, 41, 42, 43, 44, 45, 46, 47, 48, 49, 50, 51, 52, 53, 54, 55, 56, 57, 58, 59, 60, 61, 62, 63, 64, 65, 66, 67, 68, 69, 70, 71, 72, 73, 74, 75, 76, 77, 78, 79, 80, 81, 82, 83, 84, 85, 86, 87, 88, 89, 90, 91, 92, 93, 94, 95, 96, 97, 98, 99, 100, 101, 102]\n"
          ]
        }
      ]
    },
    {
      "cell_type": "code",
      "source": [
        "!pip install torch torchvision\n"
      ],
      "metadata": {
        "id": "Vyi2lX5walRP"
      },
      "execution_count": null,
      "outputs": []
    },
    {
      "cell_type": "code",
      "source": [
        "import os\n",
        "\n",
        "os.chdir(\"yolov5\")\n"
      ],
      "metadata": {
        "id": "-e6WMGzHao27"
      },
      "execution_count": null,
      "outputs": []
    },
    {
      "cell_type": "code",
      "source": [
        "!wget https://github.com/ultralytics/yolov5/releases/download/v5.0/yolov5l.pt\n"
      ],
      "metadata": {
        "id": "QjLZwK3Vas2D"
      },
      "execution_count": null,
      "outputs": []
    },
    {
      "cell_type": "code",
      "source": [
        "!python train.py --img 224 --batch 16 --epochs 2 --data /content/data.yaml --weights yolov5l.pt --project \"test1\""
      ],
      "metadata": {
        "id": "CI9lMtbqa2tr"
      },
      "execution_count": null,
      "outputs": []
    },
    {
      "cell_type": "code",
      "source": [
        "FLOWER_CLASS_NAMES = {'21': 'fire lily', '3': 'canterbury bells', '45': 'bolero deep blue', '1': 'pink primrose',\n",
        "                      '34': 'mexican aster', '27': 'prince of wales feathers', '7': 'moon orchid', '16': 'globe-flower',\n",
        "                      '25': 'grape hyacinth', '26': 'corn poppy', '79': 'toad lily', '39': 'siam tulip', '24': 'red ginger',\n",
        "                      '67': 'spring crocus', '35': 'alpine sea holly', '32': 'garden phlox', '10': 'globe thistle', '6': 'tiger lily',\n",
        "                      '93': 'ball moss', '33': 'love in the mist', '9': 'monkshood', '102': 'blackberry lily', '14': 'spear thistle',\n",
        "                      '19': 'balloon flower', '100': 'blanket flower', '13': 'king protea', '49': 'oxeye daisy', '15': 'yellow iris',\n",
        "                      '61': 'cautleya spicata', '31': 'carnation', '64': 'silverbush', '68': 'bearded iris', '63': 'black-eyed susan',\n",
        "                      '69': 'windflower', '62': 'japanese anemone', '20': 'giant white arum lily', '38': 'great masterwort', '4': 'sweet pea',\n",
        "                      '86': 'tree mallow', '101': 'trumpet creeper', '42': 'daffodil', '22': 'pincushion flower', '2': 'hard-leaved pocket orchid',\n",
        "                      '54': 'sunflower', '66': 'osteospermum', '70': 'tree poppy', '85': 'desert-rose', '99': 'bromelia', '87': 'magnolia',\n",
        "                      '5': 'english marigold', '92': 'bee balm', '28': 'stemless gentian', '97': 'mallow', '57': 'gaura', '40': 'lenten rose',\n",
        "                      '47': 'marigold', '59': 'orange dahlia', '48': 'buttercup', '55': 'pelargonium', '36': 'ruby-lipped cattleya',\n",
        "                      '91': 'hippeastrum', '29': 'artichoke', '71': 'gazania', '90': 'canna lily', '18': 'peruvian lily', '98': 'mexican petunia',\n",
        "                      '8': 'bird of paradise', '30': 'sweet william', '17': 'purple coneflower', '52': 'wild pansy', '84': 'columbine',\n",
        "                      '12': \"colt's foot\", '11': 'snapdragon', '96': 'camellia', '23': 'fritillary', '50': 'common dandelion', '44': 'poinsettia',\n",
        "                      '53': 'primula', '72': 'azalea', '65': 'californian poppy', '80': 'anthurium', '76': 'morning glory', '37': 'cape flower',\n",
        "                      '56': 'bishop of llandaff', '60': 'pink-yellow dahlia', '82': 'clematis', '58': 'geranium', '75': 'thorn apple',\n",
        "                      '41': 'barbeton daisy', '95': 'bougainvillea', '43': 'sword lily', '83': 'hibiscus', '78': 'lotus lotus', '88': 'cyclamen',\n",
        "                      '94': 'foxglove', '81': 'frangipani', '74': 'rose', '89': 'watercress', '73': 'water lily', '46': 'wallflower',\n",
        "                      '77': 'passion flower', '51': 'petunia'}\n",
        "print(list(FLOWER_CLASS_NAMES.values()))"
      ],
      "metadata": {
        "colab": {
          "base_uri": "https://localhost:8080/"
        },
        "id": "AghraoCYeDOo",
        "outputId": "46799b62-24a6-46ba-ebd8-3c7603c87f28"
      },
      "execution_count": null,
      "outputs": [
        {
          "output_type": "stream",
          "name": "stdout",
          "text": [
            "['fire lily', 'canterbury bells', 'bolero deep blue', 'pink primrose', 'mexican aster', 'prince of wales feathers', 'moon orchid', 'globe-flower', 'grape hyacinth', 'corn poppy', 'toad lily', 'siam tulip', 'red ginger', 'spring crocus', 'alpine sea holly', 'garden phlox', 'globe thistle', 'tiger lily', 'ball moss', 'love in the mist', 'monkshood', 'blackberry lily', 'spear thistle', 'balloon flower', 'blanket flower', 'king protea', 'oxeye daisy', 'yellow iris', 'cautleya spicata', 'carnation', 'silverbush', 'bearded iris', 'black-eyed susan', 'windflower', 'japanese anemone', 'giant white arum lily', 'great masterwort', 'sweet pea', 'tree mallow', 'trumpet creeper', 'daffodil', 'pincushion flower', 'hard-leaved pocket orchid', 'sunflower', 'osteospermum', 'tree poppy', 'desert-rose', 'bromelia', 'magnolia', 'english marigold', 'bee balm', 'stemless gentian', 'mallow', 'gaura', 'lenten rose', 'marigold', 'orange dahlia', 'buttercup', 'pelargonium', 'ruby-lipped cattleya', 'hippeastrum', 'artichoke', 'gazania', 'canna lily', 'peruvian lily', 'mexican petunia', 'bird of paradise', 'sweet william', 'purple coneflower', 'wild pansy', 'columbine', \"colt's foot\", 'snapdragon', 'camellia', 'fritillary', 'common dandelion', 'poinsettia', 'primula', 'azalea', 'californian poppy', 'anthurium', 'morning glory', 'cape flower', 'bishop of llandaff', 'pink-yellow dahlia', 'clematis', 'geranium', 'thorn apple', 'barbeton daisy', 'bougainvillea', 'sword lily', 'hibiscus', 'lotus lotus', 'cyclamen', 'foxglove', 'frangipani', 'rose', 'watercress', 'water lily', 'wallflower', 'passion flower', 'petunia']\n"
          ]
        }
      ]
    },
    {
      "cell_type": "code",
      "source": [
        "!python detect.py --weights yolov5l.pt --img 640 --conf 0.25 --source \"/content/drive/My Drive/jpg\"\n"
      ],
      "metadata": {
        "id": "u9-iUKnAu1Bn"
      },
      "execution_count": null,
      "outputs": []
    },
    {
      "cell_type": "code",
      "source": [],
      "metadata": {
        "id": "sJOHQfoHu0_I"
      },
      "execution_count": null,
      "outputs": []
    },
    {
      "cell_type": "code",
      "source": [],
      "metadata": {
        "id": "CGxXOLYhu08u"
      },
      "execution_count": null,
      "outputs": []
    },
    {
      "cell_type": "code",
      "source": [],
      "metadata": {
        "id": "0L2SBvYUu05u"
      },
      "execution_count": null,
      "outputs": []
    },
    {
      "cell_type": "code",
      "source": [],
      "metadata": {
        "id": "EG7ykqqZu03v"
      },
      "execution_count": null,
      "outputs": []
    },
    {
      "cell_type": "code",
      "source": [],
      "metadata": {
        "id": "-_zWAVxOu01W"
      },
      "execution_count": null,
      "outputs": []
    }
  ]
}